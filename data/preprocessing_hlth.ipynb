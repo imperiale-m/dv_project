{
 "cells": [
  {
   "cell_type": "code",
   "execution_count": 1,
   "outputs": [],
   "source": [
    "import matplotlib.pyplot as plt\n",
    "import pandas as pd"
   ],
   "metadata": {
    "collapsed": false
   }
  },
  {
   "cell_type": "code",
   "execution_count": 2,
   "outputs": [],
   "source": [
    "df = pd.read_csv('hlth_cd_aro.csv')"
   ],
   "metadata": {
    "collapsed": false
   }
  },
  {
   "cell_type": "code",
   "execution_count": 3,
   "outputs": [],
   "source": [
    "# Convert all columns to lowercase\n",
    "df.columns = df.columns.str.lower().str.replace(\" \", \"_\")"
   ],
   "metadata": {
    "collapsed": false
   }
  },
  {
   "cell_type": "code",
   "execution_count": 4,
   "outputs": [
    {
     "data": {
      "text/plain": "                 dataflow        last_update    freq    unit    sex    age  \\\n0  ESTAT:HLTH_CD_ARO(1.0)  14/02/23 23:00:00  Annual  Number  Total  Total   \n1  ESTAT:HLTH_CD_ARO(1.0)  14/02/23 23:00:00  Annual  Number  Total  Total   \n2  ESTAT:HLTH_CD_ARO(1.0)  14/02/23 23:00:00  Annual  Number  Total  Total   \n3  ESTAT:HLTH_CD_ARO(1.0)  14/02/23 23:00:00  Annual  Number  Total  Total   \n4  ESTAT:HLTH_CD_ARO(1.0)  14/02/23 23:00:00  Annual  Number  Total  Total   \n\n                 icd10                               resid      geo  \\\n0  All causes of death  All deaths reported in the country  Austria   \n1  All causes of death  All deaths reported in the country  Austria   \n2  All causes of death  All deaths reported in the country  Austria   \n3  All causes of death  All deaths reported in the country  Austria   \n4  All causes of death  All deaths reported in the country  Austria   \n\n   time_period  obs_value obs_flag  \n0         2012    78961.0      NaN  \n1         2013    79020.0      NaN  \n2         2014    77940.0      NaN  \n3         2015    83026.0      NaN  \n4         2016    80374.0      NaN  ",
      "text/html": "<div>\n<style scoped>\n    .dataframe tbody tr th:only-of-type {\n        vertical-align: middle;\n    }\n\n    .dataframe tbody tr th {\n        vertical-align: top;\n    }\n\n    .dataframe thead th {\n        text-align: right;\n    }\n</style>\n<table border=\"1\" class=\"dataframe\">\n  <thead>\n    <tr style=\"text-align: right;\">\n      <th></th>\n      <th>dataflow</th>\n      <th>last_update</th>\n      <th>freq</th>\n      <th>unit</th>\n      <th>sex</th>\n      <th>age</th>\n      <th>icd10</th>\n      <th>resid</th>\n      <th>geo</th>\n      <th>time_period</th>\n      <th>obs_value</th>\n      <th>obs_flag</th>\n    </tr>\n  </thead>\n  <tbody>\n    <tr>\n      <th>0</th>\n      <td>ESTAT:HLTH_CD_ARO(1.0)</td>\n      <td>14/02/23 23:00:00</td>\n      <td>Annual</td>\n      <td>Number</td>\n      <td>Total</td>\n      <td>Total</td>\n      <td>All causes of death</td>\n      <td>All deaths reported in the country</td>\n      <td>Austria</td>\n      <td>2012</td>\n      <td>78961.0</td>\n      <td>NaN</td>\n    </tr>\n    <tr>\n      <th>1</th>\n      <td>ESTAT:HLTH_CD_ARO(1.0)</td>\n      <td>14/02/23 23:00:00</td>\n      <td>Annual</td>\n      <td>Number</td>\n      <td>Total</td>\n      <td>Total</td>\n      <td>All causes of death</td>\n      <td>All deaths reported in the country</td>\n      <td>Austria</td>\n      <td>2013</td>\n      <td>79020.0</td>\n      <td>NaN</td>\n    </tr>\n    <tr>\n      <th>2</th>\n      <td>ESTAT:HLTH_CD_ARO(1.0)</td>\n      <td>14/02/23 23:00:00</td>\n      <td>Annual</td>\n      <td>Number</td>\n      <td>Total</td>\n      <td>Total</td>\n      <td>All causes of death</td>\n      <td>All deaths reported in the country</td>\n      <td>Austria</td>\n      <td>2014</td>\n      <td>77940.0</td>\n      <td>NaN</td>\n    </tr>\n    <tr>\n      <th>3</th>\n      <td>ESTAT:HLTH_CD_ARO(1.0)</td>\n      <td>14/02/23 23:00:00</td>\n      <td>Annual</td>\n      <td>Number</td>\n      <td>Total</td>\n      <td>Total</td>\n      <td>All causes of death</td>\n      <td>All deaths reported in the country</td>\n      <td>Austria</td>\n      <td>2015</td>\n      <td>83026.0</td>\n      <td>NaN</td>\n    </tr>\n    <tr>\n      <th>4</th>\n      <td>ESTAT:HLTH_CD_ARO(1.0)</td>\n      <td>14/02/23 23:00:00</td>\n      <td>Annual</td>\n      <td>Number</td>\n      <td>Total</td>\n      <td>Total</td>\n      <td>All causes of death</td>\n      <td>All deaths reported in the country</td>\n      <td>Austria</td>\n      <td>2016</td>\n      <td>80374.0</td>\n      <td>NaN</td>\n    </tr>\n  </tbody>\n</table>\n</div>"
     },
     "execution_count": 4,
     "metadata": {},
     "output_type": "execute_result"
    }
   ],
   "source": [
    "df.head()"
   ],
   "metadata": {
    "collapsed": false
   }
  },
  {
   "cell_type": "code",
   "execution_count": 5,
   "outputs": [],
   "source": [
    "df.drop(columns=['dataflow', 'last_update', 'freq', 'unit', 'sex', 'age', 'obs_flag', 'resid'], inplace=True)"
   ],
   "metadata": {
    "collapsed": false
   }
  },
  {
   "cell_type": "code",
   "execution_count": 6,
   "outputs": [],
   "source": [
    "# Drop geo too\n",
    "# df.drop(columns=['geo'], inplace=True)"
   ],
   "metadata": {
    "collapsed": false
   }
  },
  {
   "cell_type": "code",
   "execution_count": 7,
   "outputs": [],
   "source": [
    "# Drop 2019 and 2020 as we are using absolute values and Uk is missing after 2018\n",
    "filter = (df['time_period'] == 2019) | (df['time_period'] == 2020)\n",
    "df.drop(index=df[filter].index, inplace=True)"
   ],
   "metadata": {
    "collapsed": false
   }
  },
  {
   "cell_type": "code",
   "execution_count": 8,
   "outputs": [
    {
     "data": {
      "text/plain": "                 icd10      geo  time_period  obs_value\n0  All causes of death  Austria         2012    78961.0\n1  All causes of death  Austria         2013    79020.0\n2  All causes of death  Austria         2014    77940.0\n3  All causes of death  Austria         2015    83026.0\n4  All causes of death  Austria         2016    80374.0",
      "text/html": "<div>\n<style scoped>\n    .dataframe tbody tr th:only-of-type {\n        vertical-align: middle;\n    }\n\n    .dataframe tbody tr th {\n        vertical-align: top;\n    }\n\n    .dataframe thead th {\n        text-align: right;\n    }\n</style>\n<table border=\"1\" class=\"dataframe\">\n  <thead>\n    <tr style=\"text-align: right;\">\n      <th></th>\n      <th>icd10</th>\n      <th>geo</th>\n      <th>time_period</th>\n      <th>obs_value</th>\n    </tr>\n  </thead>\n  <tbody>\n    <tr>\n      <th>0</th>\n      <td>All causes of death</td>\n      <td>Austria</td>\n      <td>2012</td>\n      <td>78961.0</td>\n    </tr>\n    <tr>\n      <th>1</th>\n      <td>All causes of death</td>\n      <td>Austria</td>\n      <td>2013</td>\n      <td>79020.0</td>\n    </tr>\n    <tr>\n      <th>2</th>\n      <td>All causes of death</td>\n      <td>Austria</td>\n      <td>2014</td>\n      <td>77940.0</td>\n    </tr>\n    <tr>\n      <th>3</th>\n      <td>All causes of death</td>\n      <td>Austria</td>\n      <td>2015</td>\n      <td>83026.0</td>\n    </tr>\n    <tr>\n      <th>4</th>\n      <td>All causes of death</td>\n      <td>Austria</td>\n      <td>2016</td>\n      <td>80374.0</td>\n    </tr>\n  </tbody>\n</table>\n</div>"
     },
     "execution_count": 8,
     "metadata": {},
     "output_type": "execute_result"
    }
   ],
   "source": [
    "# Replace all NaN with 0\n",
    "df.fillna(0, inplace=True)\n",
    "df.head()"
   ],
   "metadata": {
    "collapsed": false
   }
  },
  {
   "cell_type": "code",
   "execution_count": 9,
   "outputs": [
    {
     "data": {
      "text/plain": "icd10           object\ngeo             object\ntime_period      int64\nobs_value      float64\ndtype: object"
     },
     "execution_count": 9,
     "metadata": {},
     "output_type": "execute_result"
    }
   ],
   "source": [
    "df.dtypes"
   ],
   "metadata": {
    "collapsed": false
   }
  },
  {
   "cell_type": "code",
   "execution_count": 10,
   "outputs": [
    {
     "data": {
      "text/plain": "                                icd10  time_period       geo  obs_value\n0  Accidental drowning and submersion         2012   Austria       49.0\n1  Accidental drowning and submersion         2012   Belgium       57.0\n2  Accidental drowning and submersion         2012  Bulgaria      142.0\n3  Accidental drowning and submersion         2012   Croatia      135.0\n4  Accidental drowning and submersion         2012    Cyprus       18.0",
      "text/html": "<div>\n<style scoped>\n    .dataframe tbody tr th:only-of-type {\n        vertical-align: middle;\n    }\n\n    .dataframe tbody tr th {\n        vertical-align: top;\n    }\n\n    .dataframe thead th {\n        text-align: right;\n    }\n</style>\n<table border=\"1\" class=\"dataframe\">\n  <thead>\n    <tr style=\"text-align: right;\">\n      <th></th>\n      <th>icd10</th>\n      <th>time_period</th>\n      <th>geo</th>\n      <th>obs_value</th>\n    </tr>\n  </thead>\n  <tbody>\n    <tr>\n      <th>0</th>\n      <td>Accidental drowning and submersion</td>\n      <td>2012</td>\n      <td>Austria</td>\n      <td>49.0</td>\n    </tr>\n    <tr>\n      <th>1</th>\n      <td>Accidental drowning and submersion</td>\n      <td>2012</td>\n      <td>Belgium</td>\n      <td>57.0</td>\n    </tr>\n    <tr>\n      <th>2</th>\n      <td>Accidental drowning and submersion</td>\n      <td>2012</td>\n      <td>Bulgaria</td>\n      <td>142.0</td>\n    </tr>\n    <tr>\n      <th>3</th>\n      <td>Accidental drowning and submersion</td>\n      <td>2012</td>\n      <td>Croatia</td>\n      <td>135.0</td>\n    </tr>\n    <tr>\n      <th>4</th>\n      <td>Accidental drowning and submersion</td>\n      <td>2012</td>\n      <td>Cyprus</td>\n      <td>18.0</td>\n    </tr>\n  </tbody>\n</table>\n</div>"
     },
     "execution_count": 10,
     "metadata": {},
     "output_type": "execute_result"
    }
   ],
   "source": [
    "all = df.groupby(['icd10', 'time_period', 'geo']).sum().reset_index()\n",
    "all.head()"
   ],
   "metadata": {
    "collapsed": false
   }
  },
  {
   "cell_type": "code",
   "execution_count": 11,
   "outputs": [],
   "source": [
    "all.rename(columns={\"obs_value\": \"value\"}, inplace=True)"
   ],
   "metadata": {
    "collapsed": false
   }
  },
  {
   "cell_type": "code",
   "execution_count": 12,
   "outputs": [],
   "source": [
    "all.replace(to_replace='Germany (until 1990 former territory of the FRG)', value='Germany', inplace=True)"
   ],
   "metadata": {
    "collapsed": false
   }
  },
  {
   "cell_type": "code",
   "execution_count": 13,
   "outputs": [],
   "source": [
    "all.drop(all[all.geo == 'France (metropolitan)'].index, inplace=True)"
   ],
   "metadata": {
    "collapsed": false
   }
  },
  {
   "cell_type": "code",
   "execution_count": 14,
   "outputs": [],
   "source": [
    "top2012 = all[all['time_period'] == 2012].sort_values(by='value', ascending=False).reset_index(drop=True)\n",
    "top2012_list = top2012['icd10'].tolist()[1:20]"
   ],
   "metadata": {
    "collapsed": false
   }
  },
  {
   "cell_type": "code",
   "execution_count": 15,
   "outputs": [
    {
     "data": {
      "text/plain": "                           icd10  time_period             geo     value\n0            All causes of death         2012         Germany  871615.0\n1            All causes of death         2012           Italy  613520.0\n2            All causes of death         2012          France  571464.0\n3            All causes of death         2012  United Kingdom  570691.0\n4            All causes of death         2012           Spain  402950.0\n...                          ...          ...             ...       ...\n3123  COVID-19, virus identified         2012          Poland       0.0\n3124  COVID-19, virus identified         2012        Portugal       0.0\n3125  COVID-19, virus identified         2012         Romania       0.0\n3126  COVID-19, virus identified         2012          Serbia       0.0\n3127  COVID-19, virus identified         2012     Switzerland       0.0\n\n[3128 rows x 4 columns]",
      "text/html": "<div>\n<style scoped>\n    .dataframe tbody tr th:only-of-type {\n        vertical-align: middle;\n    }\n\n    .dataframe tbody tr th {\n        vertical-align: top;\n    }\n\n    .dataframe thead th {\n        text-align: right;\n    }\n</style>\n<table border=\"1\" class=\"dataframe\">\n  <thead>\n    <tr style=\"text-align: right;\">\n      <th></th>\n      <th>icd10</th>\n      <th>time_period</th>\n      <th>geo</th>\n      <th>value</th>\n    </tr>\n  </thead>\n  <tbody>\n    <tr>\n      <th>0</th>\n      <td>All causes of death</td>\n      <td>2012</td>\n      <td>Germany</td>\n      <td>871615.0</td>\n    </tr>\n    <tr>\n      <th>1</th>\n      <td>All causes of death</td>\n      <td>2012</td>\n      <td>Italy</td>\n      <td>613520.0</td>\n    </tr>\n    <tr>\n      <th>2</th>\n      <td>All causes of death</td>\n      <td>2012</td>\n      <td>France</td>\n      <td>571464.0</td>\n    </tr>\n    <tr>\n      <th>3</th>\n      <td>All causes of death</td>\n      <td>2012</td>\n      <td>United Kingdom</td>\n      <td>570691.0</td>\n    </tr>\n    <tr>\n      <th>4</th>\n      <td>All causes of death</td>\n      <td>2012</td>\n      <td>Spain</td>\n      <td>402950.0</td>\n    </tr>\n    <tr>\n      <th>...</th>\n      <td>...</td>\n      <td>...</td>\n      <td>...</td>\n      <td>...</td>\n    </tr>\n    <tr>\n      <th>3123</th>\n      <td>COVID-19, virus identified</td>\n      <td>2012</td>\n      <td>Poland</td>\n      <td>0.0</td>\n    </tr>\n    <tr>\n      <th>3124</th>\n      <td>COVID-19, virus identified</td>\n      <td>2012</td>\n      <td>Portugal</td>\n      <td>0.0</td>\n    </tr>\n    <tr>\n      <th>3125</th>\n      <td>COVID-19, virus identified</td>\n      <td>2012</td>\n      <td>Romania</td>\n      <td>0.0</td>\n    </tr>\n    <tr>\n      <th>3126</th>\n      <td>COVID-19, virus identified</td>\n      <td>2012</td>\n      <td>Serbia</td>\n      <td>0.0</td>\n    </tr>\n    <tr>\n      <th>3127</th>\n      <td>COVID-19, virus identified</td>\n      <td>2012</td>\n      <td>Switzerland</td>\n      <td>0.0</td>\n    </tr>\n  </tbody>\n</table>\n<p>3128 rows × 4 columns</p>\n</div>"
     },
     "execution_count": 15,
     "metadata": {},
     "output_type": "execute_result"
    }
   ],
   "source": [
    "top2012"
   ],
   "metadata": {
    "collapsed": false
   }
  },
  {
   "cell_type": "code",
   "execution_count": 16,
   "outputs": [],
   "source": [
    "all.to_csv('death_causes.csv', index=False)"
   ],
   "metadata": {
    "collapsed": false
   }
  }
 ],
 "metadata": {
  "kernelspec": {
   "display_name": "Python 3",
   "language": "python",
   "name": "python3"
  },
  "language_info": {
   "codemirror_mode": {
    "name": "ipython",
    "version": 2
   },
   "file_extension": ".py",
   "mimetype": "text/x-python",
   "name": "python",
   "nbconvert_exporter": "python",
   "pygments_lexer": "ipython2",
   "version": "2.7.6"
  }
 },
 "nbformat": 4,
 "nbformat_minor": 0
}
