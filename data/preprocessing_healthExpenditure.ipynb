{
 "cells": [
  {
   "cell_type": "code",
   "execution_count": 51,
   "outputs": [],
   "source": [
    "import matplotlib.pyplot as plt\n",
    "import pandas as pd"
   ],
   "metadata": {
    "collapsed": false
   }
  },
  {
   "cell_type": "code",
   "execution_count": 52,
   "outputs": [],
   "source": [
    "df = pd.read_csv('healthExpenditure.csv')"
   ],
   "metadata": {
    "collapsed": false
   }
  },
  {
   "cell_type": "code",
   "execution_count": 53,
   "outputs": [],
   "source": [
    "# Convert all columns to lowercase\n",
    "df.columns = df.columns.str.lower().str.replace(\" \", \"_\")"
   ],
   "metadata": {
    "collapsed": false
   }
  },
  {
   "cell_type": "code",
   "execution_count": 54,
   "outputs": [
    {
     "data": {
      "text/plain": "  geo  time_period  obs_value\n0  AL         2009        NaN\n1  AL         2010        NaN\n2  AL         2011        NaN\n3  AL         2012        NaN\n4  AL         2013        NaN",
      "text/html": "<div>\n<style scoped>\n    .dataframe tbody tr th:only-of-type {\n        vertical-align: middle;\n    }\n\n    .dataframe tbody tr th {\n        vertical-align: top;\n    }\n\n    .dataframe thead th {\n        text-align: right;\n    }\n</style>\n<table border=\"1\" class=\"dataframe\">\n  <thead>\n    <tr style=\"text-align: right;\">\n      <th></th>\n      <th>geo</th>\n      <th>time_period</th>\n      <th>obs_value</th>\n    </tr>\n  </thead>\n  <tbody>\n    <tr>\n      <th>0</th>\n      <td>AL</td>\n      <td>2009</td>\n      <td>NaN</td>\n    </tr>\n    <tr>\n      <th>1</th>\n      <td>AL</td>\n      <td>2010</td>\n      <td>NaN</td>\n    </tr>\n    <tr>\n      <th>2</th>\n      <td>AL</td>\n      <td>2011</td>\n      <td>NaN</td>\n    </tr>\n    <tr>\n      <th>3</th>\n      <td>AL</td>\n      <td>2012</td>\n      <td>NaN</td>\n    </tr>\n    <tr>\n      <th>4</th>\n      <td>AL</td>\n      <td>2013</td>\n      <td>NaN</td>\n    </tr>\n  </tbody>\n</table>\n</div>"
     },
     "execution_count": 54,
     "metadata": {},
     "output_type": "execute_result"
    }
   ],
   "source": [
    "df.head()"
   ],
   "metadata": {
    "collapsed": false
   }
  },
  {
   "cell_type": "code",
   "execution_count": 55,
   "outputs": [
    {
     "data": {
      "text/plain": "  geo  time_period  obs_value\n0  AL         2009        0.0\n1  AL         2010        0.0\n2  AL         2011        0.0\n3  AL         2012        0.0\n4  AL         2013        0.0",
      "text/html": "<div>\n<style scoped>\n    .dataframe tbody tr th:only-of-type {\n        vertical-align: middle;\n    }\n\n    .dataframe tbody tr th {\n        vertical-align: top;\n    }\n\n    .dataframe thead th {\n        text-align: right;\n    }\n</style>\n<table border=\"1\" class=\"dataframe\">\n  <thead>\n    <tr style=\"text-align: right;\">\n      <th></th>\n      <th>geo</th>\n      <th>time_period</th>\n      <th>obs_value</th>\n    </tr>\n  </thead>\n  <tbody>\n    <tr>\n      <th>0</th>\n      <td>AL</td>\n      <td>2009</td>\n      <td>0.0</td>\n    </tr>\n    <tr>\n      <th>1</th>\n      <td>AL</td>\n      <td>2010</td>\n      <td>0.0</td>\n    </tr>\n    <tr>\n      <th>2</th>\n      <td>AL</td>\n      <td>2011</td>\n      <td>0.0</td>\n    </tr>\n    <tr>\n      <th>3</th>\n      <td>AL</td>\n      <td>2012</td>\n      <td>0.0</td>\n    </tr>\n    <tr>\n      <th>4</th>\n      <td>AL</td>\n      <td>2013</td>\n      <td>0.0</td>\n    </tr>\n  </tbody>\n</table>\n</div>"
     },
     "execution_count": 55,
     "metadata": {},
     "output_type": "execute_result"
    }
   ],
   "source": [
    "# Replace all NaN with 0\n",
    "df.fillna(0, inplace=True)\n",
    "df.head()"
   ],
   "metadata": {
    "collapsed": false
   }
  },
  {
   "cell_type": "code",
   "execution_count": 56,
   "outputs": [],
   "source": [
    "# df.dtypes"
   ],
   "metadata": {
    "collapsed": false
   }
  },
  {
   "cell_type": "code",
   "execution_count": 57,
   "outputs": [],
   "source": [
    "df_life = pd.read_csv('tps00205.csv')"
   ],
   "metadata": {
    "collapsed": false
   }
  },
  {
   "cell_type": "code",
   "execution_count": 58,
   "outputs": [],
   "source": [
    "# Convert all columns to lowercase\n",
    "df_life.columns = df_life.columns.str.lower().str.replace(\" \", \"_\")"
   ],
   "metadata": {
    "collapsed": false
   }
  },
  {
   "cell_type": "code",
   "execution_count": 59,
   "outputs": [
    {
     "data": {
      "text/plain": "  geo  time_period  obs_value\n0  AL         2010        NaN\n1  AL         2011        NaN\n2  AL         2012        NaN\n3  AL         2013       77.9\n4  AL         2014       78.2",
      "text/html": "<div>\n<style scoped>\n    .dataframe tbody tr th:only-of-type {\n        vertical-align: middle;\n    }\n\n    .dataframe tbody tr th {\n        vertical-align: top;\n    }\n\n    .dataframe thead th {\n        text-align: right;\n    }\n</style>\n<table border=\"1\" class=\"dataframe\">\n  <thead>\n    <tr style=\"text-align: right;\">\n      <th></th>\n      <th>geo</th>\n      <th>time_period</th>\n      <th>obs_value</th>\n    </tr>\n  </thead>\n  <tbody>\n    <tr>\n      <th>0</th>\n      <td>AL</td>\n      <td>2010</td>\n      <td>NaN</td>\n    </tr>\n    <tr>\n      <th>1</th>\n      <td>AL</td>\n      <td>2011</td>\n      <td>NaN</td>\n    </tr>\n    <tr>\n      <th>2</th>\n      <td>AL</td>\n      <td>2012</td>\n      <td>NaN</td>\n    </tr>\n    <tr>\n      <th>3</th>\n      <td>AL</td>\n      <td>2013</td>\n      <td>77.9</td>\n    </tr>\n    <tr>\n      <th>4</th>\n      <td>AL</td>\n      <td>2014</td>\n      <td>78.2</td>\n    </tr>\n  </tbody>\n</table>\n</div>"
     },
     "execution_count": 59,
     "metadata": {},
     "output_type": "execute_result"
    }
   ],
   "source": [
    "df_life.head()"
   ],
   "metadata": {
    "collapsed": false
   }
  },
  {
   "cell_type": "code",
   "execution_count": 60,
   "outputs": [
    {
     "data": {
      "text/plain": "  geo  time_period  obs_value\n0  AL         2010        0.0\n1  AL         2011        0.0\n2  AL         2012        0.0\n3  AL         2013       77.9\n4  AL         2014       78.2",
      "text/html": "<div>\n<style scoped>\n    .dataframe tbody tr th:only-of-type {\n        vertical-align: middle;\n    }\n\n    .dataframe tbody tr th {\n        vertical-align: top;\n    }\n\n    .dataframe thead th {\n        text-align: right;\n    }\n</style>\n<table border=\"1\" class=\"dataframe\">\n  <thead>\n    <tr style=\"text-align: right;\">\n      <th></th>\n      <th>geo</th>\n      <th>time_period</th>\n      <th>obs_value</th>\n    </tr>\n  </thead>\n  <tbody>\n    <tr>\n      <th>0</th>\n      <td>AL</td>\n      <td>2010</td>\n      <td>0.0</td>\n    </tr>\n    <tr>\n      <th>1</th>\n      <td>AL</td>\n      <td>2011</td>\n      <td>0.0</td>\n    </tr>\n    <tr>\n      <th>2</th>\n      <td>AL</td>\n      <td>2012</td>\n      <td>0.0</td>\n    </tr>\n    <tr>\n      <th>3</th>\n      <td>AL</td>\n      <td>2013</td>\n      <td>77.9</td>\n    </tr>\n    <tr>\n      <th>4</th>\n      <td>AL</td>\n      <td>2014</td>\n      <td>78.2</td>\n    </tr>\n  </tbody>\n</table>\n</div>"
     },
     "execution_count": 60,
     "metadata": {},
     "output_type": "execute_result"
    }
   ],
   "source": [
    "# Replace all NaN with 0\n",
    "df_life.fillna(0, inplace=True)\n",
    "df_life.head()"
   ],
   "metadata": {
    "collapsed": false
   }
  },
  {
   "cell_type": "code",
   "execution_count": 61,
   "outputs": [],
   "source": [
    "df_life.rename(columns={'obs_value': 'life'}, inplace=True)"
   ],
   "metadata": {
    "collapsed": false
   }
  },
  {
   "cell_type": "code",
   "execution_count": 48,
   "outputs": [],
   "source": [
    "# df['merge_index'] = df['geo'] + df['time_period'].astype(str)\n",
    "# df_life['merge_index'] = df_life['geo'] + df_life['time_period'].astype(str)"
   ],
   "metadata": {
    "collapsed": false
   }
  },
  {
   "cell_type": "code",
   "execution_count": 62,
   "outputs": [],
   "source": [
    "# perform inner join\n",
    "df3 = pd.merge(df, df_life, on=['geo', 'time_period'], how='inner')"
   ],
   "metadata": {
    "collapsed": false
   }
  },
  {
   "cell_type": "code",
   "execution_count": 63,
   "outputs": [
    {
     "data": {
      "text/plain": "    geo  time_period  obs_value  life\n0    AL         2010       0.00   0.0\n1    AL         2011       0.00   0.0\n2    AL         2012       0.00   0.0\n3    AL         2013       0.00  77.9\n4    AL         2014       0.00  78.2\n..   ..          ...        ...   ...\n402  UK         2016    2824.06  81.2\n403  UK         2017    2883.22  81.3\n404  UK         2018    2950.72  81.3\n405  UK         2019    3139.30   0.0\n406  UK         2020       0.00   0.0\n\n[407 rows x 4 columns]",
      "text/html": "<div>\n<style scoped>\n    .dataframe tbody tr th:only-of-type {\n        vertical-align: middle;\n    }\n\n    .dataframe tbody tr th {\n        vertical-align: top;\n    }\n\n    .dataframe thead th {\n        text-align: right;\n    }\n</style>\n<table border=\"1\" class=\"dataframe\">\n  <thead>\n    <tr style=\"text-align: right;\">\n      <th></th>\n      <th>geo</th>\n      <th>time_period</th>\n      <th>obs_value</th>\n      <th>life</th>\n    </tr>\n  </thead>\n  <tbody>\n    <tr>\n      <th>0</th>\n      <td>AL</td>\n      <td>2010</td>\n      <td>0.00</td>\n      <td>0.0</td>\n    </tr>\n    <tr>\n      <th>1</th>\n      <td>AL</td>\n      <td>2011</td>\n      <td>0.00</td>\n      <td>0.0</td>\n    </tr>\n    <tr>\n      <th>2</th>\n      <td>AL</td>\n      <td>2012</td>\n      <td>0.00</td>\n      <td>0.0</td>\n    </tr>\n    <tr>\n      <th>3</th>\n      <td>AL</td>\n      <td>2013</td>\n      <td>0.00</td>\n      <td>77.9</td>\n    </tr>\n    <tr>\n      <th>4</th>\n      <td>AL</td>\n      <td>2014</td>\n      <td>0.00</td>\n      <td>78.2</td>\n    </tr>\n    <tr>\n      <th>...</th>\n      <td>...</td>\n      <td>...</td>\n      <td>...</td>\n      <td>...</td>\n    </tr>\n    <tr>\n      <th>402</th>\n      <td>UK</td>\n      <td>2016</td>\n      <td>2824.06</td>\n      <td>81.2</td>\n    </tr>\n    <tr>\n      <th>403</th>\n      <td>UK</td>\n      <td>2017</td>\n      <td>2883.22</td>\n      <td>81.3</td>\n    </tr>\n    <tr>\n      <th>404</th>\n      <td>UK</td>\n      <td>2018</td>\n      <td>2950.72</td>\n      <td>81.3</td>\n    </tr>\n    <tr>\n      <th>405</th>\n      <td>UK</td>\n      <td>2019</td>\n      <td>3139.30</td>\n      <td>0.0</td>\n    </tr>\n    <tr>\n      <th>406</th>\n      <td>UK</td>\n      <td>2020</td>\n      <td>0.00</td>\n      <td>0.0</td>\n    </tr>\n  </tbody>\n</table>\n<p>407 rows × 4 columns</p>\n</div>"
     },
     "execution_count": 63,
     "metadata": {},
     "output_type": "execute_result"
    }
   ],
   "source": [
    "df3"
   ],
   "metadata": {
    "collapsed": false
   }
  },
  {
   "cell_type": "code",
   "execution_count": 74,
   "outputs": [
    {
     "data": {
      "text/plain": "    geo  time_period  obs_value  life\n11   AT         2010    3247.00  80.7\n12   AT         2011    3302.65  81.1\n13   AT         2012    3429.78  81.1\n14   AT         2013    3495.89  81.3\n15   AT         2014    3553.70  81.6\n..   ..          ...        ...   ...\n400  UK         2014    2764.35  81.4\n401  UK         2015    2805.85  81.0\n402  UK         2016    2824.06  81.2\n403  UK         2017    2883.22  81.3\n404  UK         2018    2950.72  81.3\n\n[306 rows x 4 columns]",
      "text/html": "<div>\n<style scoped>\n    .dataframe tbody tr th:only-of-type {\n        vertical-align: middle;\n    }\n\n    .dataframe tbody tr th {\n        vertical-align: top;\n    }\n\n    .dataframe thead th {\n        text-align: right;\n    }\n</style>\n<table border=\"1\" class=\"dataframe\">\n  <thead>\n    <tr style=\"text-align: right;\">\n      <th></th>\n      <th>geo</th>\n      <th>time_period</th>\n      <th>obs_value</th>\n      <th>life</th>\n    </tr>\n  </thead>\n  <tbody>\n    <tr>\n      <th>11</th>\n      <td>AT</td>\n      <td>2010</td>\n      <td>3247.00</td>\n      <td>80.7</td>\n    </tr>\n    <tr>\n      <th>12</th>\n      <td>AT</td>\n      <td>2011</td>\n      <td>3302.65</td>\n      <td>81.1</td>\n    </tr>\n    <tr>\n      <th>13</th>\n      <td>AT</td>\n      <td>2012</td>\n      <td>3429.78</td>\n      <td>81.1</td>\n    </tr>\n    <tr>\n      <th>14</th>\n      <td>AT</td>\n      <td>2013</td>\n      <td>3495.89</td>\n      <td>81.3</td>\n    </tr>\n    <tr>\n      <th>15</th>\n      <td>AT</td>\n      <td>2014</td>\n      <td>3553.70</td>\n      <td>81.6</td>\n    </tr>\n    <tr>\n      <th>...</th>\n      <td>...</td>\n      <td>...</td>\n      <td>...</td>\n      <td>...</td>\n    </tr>\n    <tr>\n      <th>400</th>\n      <td>UK</td>\n      <td>2014</td>\n      <td>2764.35</td>\n      <td>81.4</td>\n    </tr>\n    <tr>\n      <th>401</th>\n      <td>UK</td>\n      <td>2015</td>\n      <td>2805.85</td>\n      <td>81.0</td>\n    </tr>\n    <tr>\n      <th>402</th>\n      <td>UK</td>\n      <td>2016</td>\n      <td>2824.06</td>\n      <td>81.2</td>\n    </tr>\n    <tr>\n      <th>403</th>\n      <td>UK</td>\n      <td>2017</td>\n      <td>2883.22</td>\n      <td>81.3</td>\n    </tr>\n    <tr>\n      <th>404</th>\n      <td>UK</td>\n      <td>2018</td>\n      <td>2950.72</td>\n      <td>81.3</td>\n    </tr>\n  </tbody>\n</table>\n<p>306 rows × 4 columns</p>\n</div>"
     },
     "execution_count": 74,
     "metadata": {},
     "output_type": "execute_result"
    }
   ],
   "source": [
    "# filter values equal to zero in column value1 or column value2\n",
    "df_filtered = df3.loc[(df3['obs_value'] != 0) & (df3['life'] != 0)]\n",
    "\n",
    "# display result\n",
    "df_filtered"
   ],
   "metadata": {
    "collapsed": false
   }
  },
  {
   "cell_type": "code",
   "execution_count": 75,
   "outputs": [],
   "source": [
    "df_filtered.to_csv('healthExpenditure2.csv', index=False)"
   ],
   "metadata": {
    "collapsed": false
   }
  },
  {
   "cell_type": "code",
   "execution_count": null,
   "outputs": [],
   "source": [
    "Country = 'Italy'\n",
    "test = df[df['geo'] == 'IT']\n",
    "test.head()"
   ],
   "metadata": {
    "collapsed": false
   }
  },
  {
   "cell_type": "code",
   "execution_count": null,
   "outputs": [],
   "source": [
    "fig, axs = plt.subplots(figsize=(12, 3))\n",
    "axs.scatter(test['time_period'], test['obs_value'])\n",
    "plt.title(Country)\n",
    "plt.xlabel('Life Expectancy')\n",
    "plt.ylabel('NUTS2')\n",
    "# plt.yscale('log')\n",
    "plt.show()"
   ],
   "metadata": {
    "collapsed": false
   }
  },
  {
   "cell_type": "code",
   "execution_count": null,
   "outputs": [],
   "source": [],
   "metadata": {
    "collapsed": false
   }
  }
 ],
 "metadata": {
  "kernelspec": {
   "display_name": "Python 3",
   "language": "python",
   "name": "python3"
  },
  "language_info": {
   "codemirror_mode": {
    "name": "ipython",
    "version": 2
   },
   "file_extension": ".py",
   "mimetype": "text/x-python",
   "name": "python",
   "nbconvert_exporter": "python",
   "pygments_lexer": "ipython2",
   "version": "2.7.6"
  }
 },
 "nbformat": 4,
 "nbformat_minor": 0
}
