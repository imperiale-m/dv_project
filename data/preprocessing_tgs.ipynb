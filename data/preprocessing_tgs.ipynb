{
 "cells": [
  {
   "cell_type": "code",
   "execution_count": 1,
   "outputs": [],
   "source": [
    "import matplotlib.pyplot as plt\n",
    "import pandas as pd"
   ],
   "metadata": {
    "collapsed": false
   }
  },
  {
   "cell_type": "code",
   "execution_count": 2,
   "outputs": [],
   "source": [
    "df = pd.read_csv('tgs00101.csv')"
   ],
   "metadata": {
    "collapsed": false
   }
  },
  {
   "cell_type": "code",
   "execution_count": 3,
   "outputs": [],
   "source": [
    "# Convert all columns to lowercase\n",
    "df.columns = df.columns.str.lower().str.replace(\" \", \"_\")"
   ],
   "metadata": {
    "collapsed": false
   }
  },
  {
   "cell_type": "code",
   "execution_count": 4,
   "outputs": [
    {
     "data": {
      "text/plain": "    geo geo_label  time_period  obs_value obs_flag\n0  AL01      Veri         2009        NaN      NaN\n1  AL01      Veri         2010        NaN      NaN\n2  AL01      Veri         2011        NaN      NaN\n3  AL01      Veri         2012        NaN      NaN\n4  AL01      Veri         2013        NaN      NaN",
      "text/html": "<div>\n<style scoped>\n    .dataframe tbody tr th:only-of-type {\n        vertical-align: middle;\n    }\n\n    .dataframe tbody tr th {\n        vertical-align: top;\n    }\n\n    .dataframe thead th {\n        text-align: right;\n    }\n</style>\n<table border=\"1\" class=\"dataframe\">\n  <thead>\n    <tr style=\"text-align: right;\">\n      <th></th>\n      <th>geo</th>\n      <th>geo_label</th>\n      <th>time_period</th>\n      <th>obs_value</th>\n      <th>obs_flag</th>\n    </tr>\n  </thead>\n  <tbody>\n    <tr>\n      <th>0</th>\n      <td>AL01</td>\n      <td>Veri</td>\n      <td>2009</td>\n      <td>NaN</td>\n      <td>NaN</td>\n    </tr>\n    <tr>\n      <th>1</th>\n      <td>AL01</td>\n      <td>Veri</td>\n      <td>2010</td>\n      <td>NaN</td>\n      <td>NaN</td>\n    </tr>\n    <tr>\n      <th>2</th>\n      <td>AL01</td>\n      <td>Veri</td>\n      <td>2011</td>\n      <td>NaN</td>\n      <td>NaN</td>\n    </tr>\n    <tr>\n      <th>3</th>\n      <td>AL01</td>\n      <td>Veri</td>\n      <td>2012</td>\n      <td>NaN</td>\n      <td>NaN</td>\n    </tr>\n    <tr>\n      <th>4</th>\n      <td>AL01</td>\n      <td>Veri</td>\n      <td>2013</td>\n      <td>NaN</td>\n      <td>NaN</td>\n    </tr>\n  </tbody>\n</table>\n</div>"
     },
     "execution_count": 4,
     "metadata": {},
     "output_type": "execute_result"
    }
   ],
   "source": [
    "df.head()"
   ],
   "metadata": {
    "collapsed": false
   }
  },
  {
   "cell_type": "code",
   "execution_count": 5,
   "outputs": [],
   "source": [
    "df.drop(columns=['obs_flag'], inplace=True)"
   ],
   "metadata": {
    "collapsed": false
   }
  },
  {
   "cell_type": "code",
   "execution_count": 6,
   "outputs": [],
   "source": [
    "# Drop 2019 and 2020 as we are using absolute values and Uk is missing after 2018\n",
    "filter = (df['time_period'] == 2019) | (df['time_period'] == 2020)\n",
    "df.drop(index=df[filter].index, inplace=True)"
   ],
   "metadata": {
    "collapsed": false
   }
  },
  {
   "cell_type": "code",
   "execution_count": 7,
   "outputs": [
    {
     "data": {
      "text/plain": "    geo geo_label  time_period  obs_value\n0  AL01      Veri         2009        0.0\n1  AL01      Veri         2010        0.0\n2  AL01      Veri         2011        0.0\n3  AL01      Veri         2012        0.0\n4  AL01      Veri         2013        0.0",
      "text/html": "<div>\n<style scoped>\n    .dataframe tbody tr th:only-of-type {\n        vertical-align: middle;\n    }\n\n    .dataframe tbody tr th {\n        vertical-align: top;\n    }\n\n    .dataframe thead th {\n        text-align: right;\n    }\n</style>\n<table border=\"1\" class=\"dataframe\">\n  <thead>\n    <tr style=\"text-align: right;\">\n      <th></th>\n      <th>geo</th>\n      <th>geo_label</th>\n      <th>time_period</th>\n      <th>obs_value</th>\n    </tr>\n  </thead>\n  <tbody>\n    <tr>\n      <th>0</th>\n      <td>AL01</td>\n      <td>Veri</td>\n      <td>2009</td>\n      <td>0.0</td>\n    </tr>\n    <tr>\n      <th>1</th>\n      <td>AL01</td>\n      <td>Veri</td>\n      <td>2010</td>\n      <td>0.0</td>\n    </tr>\n    <tr>\n      <th>2</th>\n      <td>AL01</td>\n      <td>Veri</td>\n      <td>2011</td>\n      <td>0.0</td>\n    </tr>\n    <tr>\n      <th>3</th>\n      <td>AL01</td>\n      <td>Veri</td>\n      <td>2012</td>\n      <td>0.0</td>\n    </tr>\n    <tr>\n      <th>4</th>\n      <td>AL01</td>\n      <td>Veri</td>\n      <td>2013</td>\n      <td>0.0</td>\n    </tr>\n  </tbody>\n</table>\n</div>"
     },
     "execution_count": 7,
     "metadata": {},
     "output_type": "execute_result"
    }
   ],
   "source": [
    "# Replace all NaN with 0\n",
    "df.fillna(0, inplace=True)\n",
    "df.head()"
   ],
   "metadata": {
    "collapsed": false
   }
  },
  {
   "cell_type": "code",
   "execution_count": 8,
   "outputs": [
    {
     "data": {
      "text/plain": "geo             object\ngeo_label       object\ntime_period      int64\nobs_value      float64\ndtype: object"
     },
     "execution_count": 8,
     "metadata": {},
     "output_type": "execute_result"
    }
   ],
   "source": [
    "df.dtypes"
   ],
   "metadata": {
    "collapsed": false
   }
  },
  {
   "cell_type": "code",
   "execution_count": 9,
   "outputs": [],
   "source": [
    "df['geo_country'] = df['geo'].str[:2]"
   ],
   "metadata": {
    "collapsed": false
   }
  },
  {
   "cell_type": "code",
   "execution_count": 34,
   "outputs": [],
   "source": [
    "df.to_csv('tgs.csv', index=False)"
   ],
   "metadata": {
    "collapsed": false
   }
  },
  {
   "cell_type": "code",
   "execution_count": 27,
   "outputs": [
    {
     "data": {
      "text/plain": "       geo geo_label  time_period  obs_value geo_country\n2004  ITC1  Piemonte         2009       81.7          IT\n2005  ITC1  Piemonte         2010       82.2          IT\n2006  ITC1  Piemonte         2011       82.3          IT\n2007  ITC1  Piemonte         2012       82.4          IT\n2008  ITC1  Piemonte         2013       82.7          IT",
      "text/html": "<div>\n<style scoped>\n    .dataframe tbody tr th:only-of-type {\n        vertical-align: middle;\n    }\n\n    .dataframe tbody tr th {\n        vertical-align: top;\n    }\n\n    .dataframe thead th {\n        text-align: right;\n    }\n</style>\n<table border=\"1\" class=\"dataframe\">\n  <thead>\n    <tr style=\"text-align: right;\">\n      <th></th>\n      <th>geo</th>\n      <th>geo_label</th>\n      <th>time_period</th>\n      <th>obs_value</th>\n      <th>geo_country</th>\n    </tr>\n  </thead>\n  <tbody>\n    <tr>\n      <th>2004</th>\n      <td>ITC1</td>\n      <td>Piemonte</td>\n      <td>2009</td>\n      <td>81.7</td>\n      <td>IT</td>\n    </tr>\n    <tr>\n      <th>2005</th>\n      <td>ITC1</td>\n      <td>Piemonte</td>\n      <td>2010</td>\n      <td>82.2</td>\n      <td>IT</td>\n    </tr>\n    <tr>\n      <th>2006</th>\n      <td>ITC1</td>\n      <td>Piemonte</td>\n      <td>2011</td>\n      <td>82.3</td>\n      <td>IT</td>\n    </tr>\n    <tr>\n      <th>2007</th>\n      <td>ITC1</td>\n      <td>Piemonte</td>\n      <td>2012</td>\n      <td>82.4</td>\n      <td>IT</td>\n    </tr>\n    <tr>\n      <th>2008</th>\n      <td>ITC1</td>\n      <td>Piemonte</td>\n      <td>2013</td>\n      <td>82.7</td>\n      <td>IT</td>\n    </tr>\n  </tbody>\n</table>\n</div>"
     },
     "execution_count": 27,
     "metadata": {},
     "output_type": "execute_result"
    }
   ],
   "source": [
    "Country = 'Italy'\n",
    "test = df[df['geo_country'] == 'IT']\n",
    "test.head()"
   ],
   "metadata": {
    "collapsed": false
   }
  },
  {
   "cell_type": "code",
   "execution_count": 31,
   "outputs": [
    {
     "data": {
      "text/plain": "       geo                            geo_label  time_period  obs_value  \\\n2013  ITC1                             Piemonte         2018       83.0   \n2025  ITC2         Valle d'Aosta/Vallée d'Aoste         2018       82.3   \n2037  ITC3                              Liguria         2018       83.1   \n2049  ITC4                            Lombardia         2018       84.0   \n2061  ITF1                              Abruzzo         2018       83.6   \n2073  ITF2                               Molise         2018       83.3   \n2085  ITF3                             Campania         2018       81.9   \n2097  ITF4                               Puglia         2018       83.6   \n2109  ITF5                           Basilicata         2018       83.1   \n2121  ITF6                             Calabria         2018       83.0   \n2133  ITG1                              Sicilia         2018       82.3   \n2145  ITG2                             Sardegna         2018       83.8   \n2157  ITH1  Provincia Autonoma di Bolzano/Bozen         2018       84.4   \n2169  ITH2         Provincia Autonoma di Trento         2018       84.6   \n2181  ITH3                               Veneto         2018       84.0   \n2193  ITH4                Friuli-Venezia Giulia         2018       83.5   \n2205  ITH5                       Emilia-Romagna         2018       83.9   \n2217  ITI1                              Toscana         2018       84.0   \n2229  ITI2                               Umbria         2018       84.3   \n2241  ITI3                               Marche         2018       84.4   \n2253  ITI4                                Lazio         2018       83.6   \n\n     geo_country  \n2013          IT  \n2025          IT  \n2037          IT  \n2049          IT  \n2061          IT  \n2073          IT  \n2085          IT  \n2097          IT  \n2109          IT  \n2121          IT  \n2133          IT  \n2145          IT  \n2157          IT  \n2169          IT  \n2181          IT  \n2193          IT  \n2205          IT  \n2217          IT  \n2229          IT  \n2241          IT  \n2253          IT  ",
      "text/html": "<div>\n<style scoped>\n    .dataframe tbody tr th:only-of-type {\n        vertical-align: middle;\n    }\n\n    .dataframe tbody tr th {\n        vertical-align: top;\n    }\n\n    .dataframe thead th {\n        text-align: right;\n    }\n</style>\n<table border=\"1\" class=\"dataframe\">\n  <thead>\n    <tr style=\"text-align: right;\">\n      <th></th>\n      <th>geo</th>\n      <th>geo_label</th>\n      <th>time_period</th>\n      <th>obs_value</th>\n      <th>geo_country</th>\n    </tr>\n  </thead>\n  <tbody>\n    <tr>\n      <th>2013</th>\n      <td>ITC1</td>\n      <td>Piemonte</td>\n      <td>2018</td>\n      <td>83.0</td>\n      <td>IT</td>\n    </tr>\n    <tr>\n      <th>2025</th>\n      <td>ITC2</td>\n      <td>Valle d'Aosta/Vallée d'Aoste</td>\n      <td>2018</td>\n      <td>82.3</td>\n      <td>IT</td>\n    </tr>\n    <tr>\n      <th>2037</th>\n      <td>ITC3</td>\n      <td>Liguria</td>\n      <td>2018</td>\n      <td>83.1</td>\n      <td>IT</td>\n    </tr>\n    <tr>\n      <th>2049</th>\n      <td>ITC4</td>\n      <td>Lombardia</td>\n      <td>2018</td>\n      <td>84.0</td>\n      <td>IT</td>\n    </tr>\n    <tr>\n      <th>2061</th>\n      <td>ITF1</td>\n      <td>Abruzzo</td>\n      <td>2018</td>\n      <td>83.6</td>\n      <td>IT</td>\n    </tr>\n    <tr>\n      <th>2073</th>\n      <td>ITF2</td>\n      <td>Molise</td>\n      <td>2018</td>\n      <td>83.3</td>\n      <td>IT</td>\n    </tr>\n    <tr>\n      <th>2085</th>\n      <td>ITF3</td>\n      <td>Campania</td>\n      <td>2018</td>\n      <td>81.9</td>\n      <td>IT</td>\n    </tr>\n    <tr>\n      <th>2097</th>\n      <td>ITF4</td>\n      <td>Puglia</td>\n      <td>2018</td>\n      <td>83.6</td>\n      <td>IT</td>\n    </tr>\n    <tr>\n      <th>2109</th>\n      <td>ITF5</td>\n      <td>Basilicata</td>\n      <td>2018</td>\n      <td>83.1</td>\n      <td>IT</td>\n    </tr>\n    <tr>\n      <th>2121</th>\n      <td>ITF6</td>\n      <td>Calabria</td>\n      <td>2018</td>\n      <td>83.0</td>\n      <td>IT</td>\n    </tr>\n    <tr>\n      <th>2133</th>\n      <td>ITG1</td>\n      <td>Sicilia</td>\n      <td>2018</td>\n      <td>82.3</td>\n      <td>IT</td>\n    </tr>\n    <tr>\n      <th>2145</th>\n      <td>ITG2</td>\n      <td>Sardegna</td>\n      <td>2018</td>\n      <td>83.8</td>\n      <td>IT</td>\n    </tr>\n    <tr>\n      <th>2157</th>\n      <td>ITH1</td>\n      <td>Provincia Autonoma di Bolzano/Bozen</td>\n      <td>2018</td>\n      <td>84.4</td>\n      <td>IT</td>\n    </tr>\n    <tr>\n      <th>2169</th>\n      <td>ITH2</td>\n      <td>Provincia Autonoma di Trento</td>\n      <td>2018</td>\n      <td>84.6</td>\n      <td>IT</td>\n    </tr>\n    <tr>\n      <th>2181</th>\n      <td>ITH3</td>\n      <td>Veneto</td>\n      <td>2018</td>\n      <td>84.0</td>\n      <td>IT</td>\n    </tr>\n    <tr>\n      <th>2193</th>\n      <td>ITH4</td>\n      <td>Friuli-Venezia Giulia</td>\n      <td>2018</td>\n      <td>83.5</td>\n      <td>IT</td>\n    </tr>\n    <tr>\n      <th>2205</th>\n      <td>ITH5</td>\n      <td>Emilia-Romagna</td>\n      <td>2018</td>\n      <td>83.9</td>\n      <td>IT</td>\n    </tr>\n    <tr>\n      <th>2217</th>\n      <td>ITI1</td>\n      <td>Toscana</td>\n      <td>2018</td>\n      <td>84.0</td>\n      <td>IT</td>\n    </tr>\n    <tr>\n      <th>2229</th>\n      <td>ITI2</td>\n      <td>Umbria</td>\n      <td>2018</td>\n      <td>84.3</td>\n      <td>IT</td>\n    </tr>\n    <tr>\n      <th>2241</th>\n      <td>ITI3</td>\n      <td>Marche</td>\n      <td>2018</td>\n      <td>84.4</td>\n      <td>IT</td>\n    </tr>\n    <tr>\n      <th>2253</th>\n      <td>ITI4</td>\n      <td>Lazio</td>\n      <td>2018</td>\n      <td>83.6</td>\n      <td>IT</td>\n    </tr>\n  </tbody>\n</table>\n</div>"
     },
     "execution_count": 31,
     "metadata": {},
     "output_type": "execute_result"
    }
   ],
   "source": [
    "test[test['time_period'] == 2018]"
   ],
   "metadata": {
    "collapsed": false
   }
  },
  {
   "cell_type": "code",
   "execution_count": 32,
   "outputs": [],
   "source": [
    "test2= test[test['time_period'] == 2018]"
   ],
   "metadata": {
    "collapsed": false
   }
  },
  {
   "cell_type": "code",
   "execution_count": 33,
   "outputs": [
    {
     "data": {
      "text/plain": "<Figure size 1200x300 with 1 Axes>",
      "image/png": "[encoded data removed]"
     },
     "metadata": {},
     "output_type": "display_data"
    }
   ],
   "source": [
    "fig, axs = plt.subplots(figsize=(12, 3))\n",
    "axs.scatter(test2['obs_value'], test2['geo'])\n",
    "plt.title(Country)\n",
    "plt.xlabel('Life Expectancy')\n",
    "plt.ylabel('NUTS2')\n",
    "# plt.yscale('log')\n",
    "plt.show()"
   ],
   "metadata": {
    "collapsed": false
   }
  },
  {
   "cell_type": "code",
   "execution_count": 30,
   "outputs": [],
   "source": [],
   "metadata": {
    "collapsed": false
   }
  }
 ],
 "metadata": {
  "kernelspec": {
   "display_name": "Python 3",
   "language": "python",
   "name": "python3"
  },
  "language_info": {
   "codemirror_mode": {
    "name": "ipython",
    "version": 2
   },
   "file_extension": ".py",
   "mimetype": "text/x-python",
   "name": "python",
   "nbconvert_exporter": "python",
   "pygments_lexer": "ipython2",
   "version": "2.7.6"
  }
 },
 "nbformat": 4,
 "nbformat_minor": 0
}
